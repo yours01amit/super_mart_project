{
 "cells": [
  {
   "cell_type": "code",
   "execution_count": null,
   "id": "ce7d3126",
   "metadata": {},
   "outputs": [],
   "source": [
    "# import pandas library\n",
    "import pandas as pd"
   ]
  },
  {
   "cell_type": "code",
   "execution_count": 2,
   "id": "51ffd244",
   "metadata": {},
   "outputs": [],
   "source": [
    "# Let's read a this order details CSV file into a DataFrame\n",
    "order_details = pd.read_csv('data/order_details.csv')"
   ]
  },
  {
   "cell_type": "code",
   "execution_count": null,
   "id": "713f6970",
   "metadata": {},
   "outputs": [
    {
     "data": {
      "text/html": [
       "<div>\n",
       "<style scoped>\n",
       "    .dataframe tbody tr th:only-of-type {\n",
       "        vertical-align: middle;\n",
       "    }\n",
       "\n",
       "    .dataframe tbody tr th {\n",
       "        vertical-align: top;\n",
       "    }\n",
       "\n",
       "    .dataframe thead th {\n",
       "        text-align: right;\n",
       "    }\n",
       "</style>\n",
       "<table border=\"1\" class=\"dataframe\">\n",
       "  <thead>\n",
       "    <tr style=\"text-align: right;\">\n",
       "      <th></th>\n",
       "      <th>product_id</th>\n",
       "      <th>store_id</th>\n",
       "      <th>order_date</th>\n",
       "      <th>selling_price</th>\n",
       "      <th>customer_id</th>\n",
       "      <th>order_id</th>\n",
       "    </tr>\n",
       "  </thead>\n",
       "  <tbody>\n",
       "    <tr>\n",
       "      <th>0</th>\n",
       "      <td>P0506</td>\n",
       "      <td>S0063</td>\n",
       "      <td>2025-01-01</td>\n",
       "      <td>4427</td>\n",
       "      <td>123564153</td>\n",
       "      <td>1111139641</td>\n",
       "    </tr>\n",
       "    <tr>\n",
       "      <th>1</th>\n",
       "      <td>P0061</td>\n",
       "      <td>S0084</td>\n",
       "      <td>2025-01-01</td>\n",
       "      <td>3125</td>\n",
       "      <td>123523135</td>\n",
       "      <td>1111134828</td>\n",
       "    </tr>\n",
       "    <tr>\n",
       "      <th>2</th>\n",
       "      <td>P0608</td>\n",
       "      <td>S0105</td>\n",
       "      <td>2025-01-01</td>\n",
       "      <td>2438</td>\n",
       "      <td>123528720</td>\n",
       "      <td>1111141728</td>\n",
       "    </tr>\n",
       "    <tr>\n",
       "      <th>3</th>\n",
       "      <td>P0470</td>\n",
       "      <td>S0031</td>\n",
       "      <td>2025-01-01</td>\n",
       "      <td>3887</td>\n",
       "      <td>123552589</td>\n",
       "      <td>1111122688</td>\n",
       "    </tr>\n",
       "    <tr>\n",
       "      <th>4</th>\n",
       "      <td>P0682</td>\n",
       "      <td>S0015</td>\n",
       "      <td>2025-01-01</td>\n",
       "      <td>4194</td>\n",
       "      <td>123457812</td>\n",
       "      <td>1111120360</td>\n",
       "    </tr>\n",
       "  </tbody>\n",
       "</table>\n",
       "</div>"
      ],
      "text/plain": [
       "  product_id store_id  order_date  selling_price  customer_id    order_id\n",
       "0      P0506    S0063  2025-01-01           4427    123564153  1111139641\n",
       "1      P0061    S0084  2025-01-01           3125    123523135  1111134828\n",
       "2      P0608    S0105  2025-01-01           2438    123528720  1111141728\n",
       "3      P0470    S0031  2025-01-01           3887    123552589  1111122688\n",
       "4      P0682    S0015  2025-01-01           4194    123457812  1111120360"
      ]
     },
     "execution_count": 3,
     "metadata": {},
     "output_type": "execute_result"
    }
   ],
   "source": [
    "# display the first few rows of the DataFrame\n",
    "order_details.head()"
   ]
  },
  {
   "cell_type": "code",
   "execution_count": 4,
   "metadata": {},
   "outputs": [
    {
     "name": "stdout",
     "output_type": "stream",
     "text": [
      "<class 'pandas.core.frame.DataFrame'>\n",
      "RangeIndex: 74408 entries, 0 to 74407\n",
      "Data columns (total 6 columns):\n",
      " #   Column         Non-Null Count  Dtype \n",
      "---  ------         --------------  ----- \n",
      " 0   product_id     74408 non-null  object\n",
      " 1   store_id       74408 non-null  object\n",
      " 2   order_date     74408 non-null  object\n",
      " 3   selling_price  74408 non-null  int64 \n",
      " 4   customer_id    74408 non-null  int64 \n",
      " 5   order_id       74408 non-null  int64 \n",
      "dtypes: int64(3), object(3)\n",
      "memory usage: 3.4+ MB\n"
     ]
    }
   ],
   "source": [
    "# display summary information about the DataFrame\n",
    "order_details.info()"
   ]
  },
  {
   "cell_type": "markdown",
   "id": "345bd176",
   "metadata": {},
   "source": [
    "\n",
    "  - data looks like clean but we have to change `order_date` to datetime format"
   ]
  },
  {
   "cell_type": "code",
   "execution_count": 5,
   "metadata": {},
   "outputs": [
    {
     "data": {
      "text/plain": [
       "product_id       0\n",
       "store_id         0\n",
       "order_date       0\n",
       "selling_price    0\n",
       "customer_id      0\n",
       "order_id         0\n",
       "dtype: int64"
      ]
     },
     "execution_count": 5,
     "metadata": {},
     "output_type": "execute_result"
    }
   ],
   "source": [
    "# check for missing values in the DataFrame\n",
    "order_details.isnull().sum()"
   ]
  },
  {
   "cell_type": "markdown",
   "id": "e05fd04b",
   "metadata": {},
   "source": [
    "- there is no null values"
   ]
  },
  {
   "cell_type": "code",
   "execution_count": 6,
   "id": "b948abd8",
   "metadata": {},
   "outputs": [
    {
     "data": {
      "text/plain": [
       "np.int64(0)"
      ]
     },
     "execution_count": 6,
     "metadata": {},
     "output_type": "execute_result"
    }
   ],
   "source": [
    "# check for duplicate rows in the DataFrame\n",
    "order_details.duplicated().sum()"
   ]
  },
  {
   "cell_type": "markdown",
   "id": "0bbc2045",
   "metadata": {},
   "source": [
    "- there's no duplicate values"
   ]
  },
  {
   "cell_type": "code",
   "execution_count": 7,
   "id": "5f241913",
   "metadata": {},
   "outputs": [],
   "source": [
    "# Convert 'order_date' column to datetime format\n",
    "order_details['order_date'] = pd.to_datetime(order_details['order_date'])"
   ]
  },
  {
   "cell_type": "code",
   "execution_count": 8,
   "id": "3bab3632",
   "metadata": {},
   "outputs": [
    {
     "data": {
      "text/html": [
       "<div>\n",
       "<style scoped>\n",
       "    .dataframe tbody tr th:only-of-type {\n",
       "        vertical-align: middle;\n",
       "    }\n",
       "\n",
       "    .dataframe tbody tr th {\n",
       "        vertical-align: top;\n",
       "    }\n",
       "\n",
       "    .dataframe thead th {\n",
       "        text-align: right;\n",
       "    }\n",
       "</style>\n",
       "<table border=\"1\" class=\"dataframe\">\n",
       "  <thead>\n",
       "    <tr style=\"text-align: right;\">\n",
       "      <th></th>\n",
       "      <th>product_id</th>\n",
       "      <th>store_id</th>\n",
       "      <th>order_date</th>\n",
       "      <th>selling_price</th>\n",
       "      <th>customer_id</th>\n",
       "      <th>order_id</th>\n",
       "      <th>year</th>\n",
       "      <th>month</th>\n",
       "      <th>day</th>\n",
       "      <th>day_of_week</th>\n",
       "      <th>quarter</th>\n",
       "      <th>week_of_year</th>\n",
       "    </tr>\n",
       "  </thead>\n",
       "  <tbody>\n",
       "    <tr>\n",
       "      <th>0</th>\n",
       "      <td>P0506</td>\n",
       "      <td>S0063</td>\n",
       "      <td>2025-01-01</td>\n",
       "      <td>4427</td>\n",
       "      <td>123564153</td>\n",
       "      <td>1111139641</td>\n",
       "      <td>2025</td>\n",
       "      <td>1</td>\n",
       "      <td>1</td>\n",
       "      <td>2</td>\n",
       "      <td>1</td>\n",
       "      <td>1</td>\n",
       "    </tr>\n",
       "    <tr>\n",
       "      <th>1</th>\n",
       "      <td>P0061</td>\n",
       "      <td>S0084</td>\n",
       "      <td>2025-01-01</td>\n",
       "      <td>3125</td>\n",
       "      <td>123523135</td>\n",
       "      <td>1111134828</td>\n",
       "      <td>2025</td>\n",
       "      <td>1</td>\n",
       "      <td>1</td>\n",
       "      <td>2</td>\n",
       "      <td>1</td>\n",
       "      <td>1</td>\n",
       "    </tr>\n",
       "    <tr>\n",
       "      <th>2</th>\n",
       "      <td>P0608</td>\n",
       "      <td>S0105</td>\n",
       "      <td>2025-01-01</td>\n",
       "      <td>2438</td>\n",
       "      <td>123528720</td>\n",
       "      <td>1111141728</td>\n",
       "      <td>2025</td>\n",
       "      <td>1</td>\n",
       "      <td>1</td>\n",
       "      <td>2</td>\n",
       "      <td>1</td>\n",
       "      <td>1</td>\n",
       "    </tr>\n",
       "    <tr>\n",
       "      <th>3</th>\n",
       "      <td>P0470</td>\n",
       "      <td>S0031</td>\n",
       "      <td>2025-01-01</td>\n",
       "      <td>3887</td>\n",
       "      <td>123552589</td>\n",
       "      <td>1111122688</td>\n",
       "      <td>2025</td>\n",
       "      <td>1</td>\n",
       "      <td>1</td>\n",
       "      <td>2</td>\n",
       "      <td>1</td>\n",
       "      <td>1</td>\n",
       "    </tr>\n",
       "    <tr>\n",
       "      <th>4</th>\n",
       "      <td>P0682</td>\n",
       "      <td>S0015</td>\n",
       "      <td>2025-01-01</td>\n",
       "      <td>4194</td>\n",
       "      <td>123457812</td>\n",
       "      <td>1111120360</td>\n",
       "      <td>2025</td>\n",
       "      <td>1</td>\n",
       "      <td>1</td>\n",
       "      <td>2</td>\n",
       "      <td>1</td>\n",
       "      <td>1</td>\n",
       "    </tr>\n",
       "  </tbody>\n",
       "</table>\n",
       "</div>"
      ],
      "text/plain": [
       "  product_id store_id order_date  selling_price  customer_id    order_id  \\\n",
       "0      P0506    S0063 2025-01-01           4427    123564153  1111139641   \n",
       "1      P0061    S0084 2025-01-01           3125    123523135  1111134828   \n",
       "2      P0608    S0105 2025-01-01           2438    123528720  1111141728   \n",
       "3      P0470    S0031 2025-01-01           3887    123552589  1111122688   \n",
       "4      P0682    S0015 2025-01-01           4194    123457812  1111120360   \n",
       "\n",
       "   year  month  day  day_of_week  quarter  week_of_year  \n",
       "0  2025      1    1            2        1             1  \n",
       "1  2025      1    1            2        1             1  \n",
       "2  2025      1    1            2        1             1  \n",
       "3  2025      1    1            2        1             1  \n",
       "4  2025      1    1            2        1             1  "
      ]
     },
     "execution_count": 8,
     "metadata": {},
     "output_type": "execute_result"
    }
   ],
   "source": [
    "# Extract date components from 'order_date'\n",
    "\n",
    "order_details['year'] = order_details['order_date'].dt.year\n",
    "order_details['month'] = order_details['order_date'].dt.month\n",
    "order_details['day'] = order_details['order_date'].dt.day\n",
    "order_details['day_of_week'] = order_details['order_date'].dt.dayofweek\n",
    "order_details['quarter'] = order_details['order_date'].dt.quarter\n",
    "order_details['week_of_year'] = order_details['order_date'].dt.isocalendar().week\n",
    "order_details.head()"
   ]
  },
  {
   "cell_type": "markdown",
   "id": "f3d833a1",
   "metadata": {},
   "source": [
    "- create new columns for order_date so we can see the day,month etc sales and revalue"
   ]
  },
  {
   "cell_type": "code",
   "execution_count": 9,
   "id": "a28c82c2",
   "metadata": {},
   "outputs": [
    {
     "name": "stdout",
     "output_type": "stream",
     "text": [
      "<class 'pandas.core.frame.DataFrame'>\n",
      "RangeIndex: 74408 entries, 0 to 74407\n",
      "Data columns (total 12 columns):\n",
      " #   Column         Non-Null Count  Dtype         \n",
      "---  ------         --------------  -----         \n",
      " 0   product_id     74408 non-null  object        \n",
      " 1   store_id       74408 non-null  object        \n",
      " 2   order_date     74408 non-null  datetime64[ns]\n",
      " 3   selling_price  74408 non-null  int64         \n",
      " 4   customer_id    74408 non-null  int64         \n",
      " 5   order_id       74408 non-null  int64         \n",
      " 6   year           74408 non-null  int32         \n",
      " 7   month          74408 non-null  int32         \n",
      " 8   day            74408 non-null  int32         \n",
      " 9   day_of_week    74408 non-null  int32         \n",
      " 10  quarter        74408 non-null  int32         \n",
      " 11  week_of_year   74408 non-null  UInt32        \n",
      "dtypes: UInt32(1), datetime64[ns](1), int32(5), int64(3), object(2)\n",
      "memory usage: 5.2+ MB\n"
     ]
    }
   ],
   "source": [
    "order_details.info()"
   ]
  },
  {
   "cell_type": "code",
   "execution_count": 10,
   "id": "f768df1c",
   "metadata": {},
   "outputs": [],
   "source": [
    "# Remove the original 'order_date' column if no longer needed\n",
    "order_details.drop(['order_date'], axis=1, inplace=True)"
   ]
  },
  {
   "cell_type": "code",
   "execution_count": 11,
   "id": "ecd193e4",
   "metadata": {},
   "outputs": [
    {
     "data": {
      "text/html": [
       "<div>\n",
       "<style scoped>\n",
       "    .dataframe tbody tr th:only-of-type {\n",
       "        vertical-align: middle;\n",
       "    }\n",
       "\n",
       "    .dataframe tbody tr th {\n",
       "        vertical-align: top;\n",
       "    }\n",
       "\n",
       "    .dataframe thead th {\n",
       "        text-align: right;\n",
       "    }\n",
       "</style>\n",
       "<table border=\"1\" class=\"dataframe\">\n",
       "  <thead>\n",
       "    <tr style=\"text-align: right;\">\n",
       "      <th></th>\n",
       "      <th>count</th>\n",
       "      <th>mean</th>\n",
       "      <th>std</th>\n",
       "      <th>min</th>\n",
       "      <th>25%</th>\n",
       "      <th>50%</th>\n",
       "      <th>75%</th>\n",
       "      <th>max</th>\n",
       "    </tr>\n",
       "  </thead>\n",
       "  <tbody>\n",
       "    <tr>\n",
       "      <th>selling_price</th>\n",
       "      <td>74408.0</td>\n",
       "      <td>2558.967194</td>\n",
       "      <td>1415.580516</td>\n",
       "      <td>100.0</td>\n",
       "      <td>1331.0</td>\n",
       "      <td>2566.0</td>\n",
       "      <td>3786.0</td>\n",
       "      <td>5000.0</td>\n",
       "    </tr>\n",
       "    <tr>\n",
       "      <th>customer_id</th>\n",
       "      <td>74408.0</td>\n",
       "      <td>123512365.140361</td>\n",
       "      <td>31993.187012</td>\n",
       "      <td>123456792.0</td>\n",
       "      <td>123484762.0</td>\n",
       "      <td>123512361.5</td>\n",
       "      <td>123539948.5</td>\n",
       "      <td>123567888.0</td>\n",
       "    </tr>\n",
       "    <tr>\n",
       "      <th>order_id</th>\n",
       "      <td>74408.0</td>\n",
       "      <td>1111149597.397068</td>\n",
       "      <td>22218.940812</td>\n",
       "      <td>1111111111.0</td>\n",
       "      <td>1111130340.75</td>\n",
       "      <td>1111149609.5</td>\n",
       "      <td>1111168844.25</td>\n",
       "      <td>1111188073.0</td>\n",
       "    </tr>\n",
       "    <tr>\n",
       "      <th>year</th>\n",
       "      <td>74408.0</td>\n",
       "      <td>2023.494947</td>\n",
       "      <td>1.117465</td>\n",
       "      <td>2022.0</td>\n",
       "      <td>2022.0</td>\n",
       "      <td>2023.0</td>\n",
       "      <td>2024.0</td>\n",
       "      <td>2025.0</td>\n",
       "    </tr>\n",
       "    <tr>\n",
       "      <th>month</th>\n",
       "      <td>74408.0</td>\n",
       "      <td>6.521785</td>\n",
       "      <td>3.455942</td>\n",
       "      <td>1.0</td>\n",
       "      <td>4.0</td>\n",
       "      <td>7.0</td>\n",
       "      <td>10.0</td>\n",
       "      <td>12.0</td>\n",
       "    </tr>\n",
       "    <tr>\n",
       "      <th>day</th>\n",
       "      <td>74408.0</td>\n",
       "      <td>15.720406</td>\n",
       "      <td>8.803821</td>\n",
       "      <td>1.0</td>\n",
       "      <td>8.0</td>\n",
       "      <td>16.0</td>\n",
       "      <td>23.0</td>\n",
       "      <td>31.0</td>\n",
       "    </tr>\n",
       "    <tr>\n",
       "      <th>day_of_week</th>\n",
       "      <td>74408.0</td>\n",
       "      <td>2.993227</td>\n",
       "      <td>1.999249</td>\n",
       "      <td>0.0</td>\n",
       "      <td>1.0</td>\n",
       "      <td>3.0</td>\n",
       "      <td>5.0</td>\n",
       "      <td>6.0</td>\n",
       "    </tr>\n",
       "    <tr>\n",
       "      <th>quarter</th>\n",
       "      <td>74408.0</td>\n",
       "      <td>2.507768</td>\n",
       "      <td>1.118639</td>\n",
       "      <td>1.0</td>\n",
       "      <td>2.0</td>\n",
       "      <td>3.0</td>\n",
       "      <td>4.0</td>\n",
       "      <td>4.0</td>\n",
       "    </tr>\n",
       "    <tr>\n",
       "      <th>week_of_year</th>\n",
       "      <td>74408.0</td>\n",
       "      <td>26.484491</td>\n",
       "      <td>15.088382</td>\n",
       "      <td>1.0</td>\n",
       "      <td>13.0</td>\n",
       "      <td>27.0</td>\n",
       "      <td>40.0</td>\n",
       "      <td>52.0</td>\n",
       "    </tr>\n",
       "  </tbody>\n",
       "</table>\n",
       "</div>"
      ],
      "text/plain": [
       "                 count               mean           std           min  \\\n",
       "selling_price  74408.0        2558.967194   1415.580516         100.0   \n",
       "customer_id    74408.0   123512365.140361  31993.187012   123456792.0   \n",
       "order_id       74408.0  1111149597.397068  22218.940812  1111111111.0   \n",
       "year           74408.0        2023.494947      1.117465        2022.0   \n",
       "month          74408.0           6.521785      3.455942           1.0   \n",
       "day            74408.0          15.720406      8.803821           1.0   \n",
       "day_of_week    74408.0           2.993227      1.999249           0.0   \n",
       "quarter        74408.0           2.507768      1.118639           1.0   \n",
       "week_of_year   74408.0          26.484491     15.088382           1.0   \n",
       "\n",
       "                         25%           50%            75%           max  \n",
       "selling_price         1331.0        2566.0         3786.0        5000.0  \n",
       "customer_id      123484762.0   123512361.5    123539948.5   123567888.0  \n",
       "order_id       1111130340.75  1111149609.5  1111168844.25  1111188073.0  \n",
       "year                  2022.0        2023.0         2024.0        2025.0  \n",
       "month                    4.0           7.0           10.0          12.0  \n",
       "day                      8.0          16.0           23.0          31.0  \n",
       "day_of_week              1.0           3.0            5.0           6.0  \n",
       "quarter                  2.0           3.0            4.0           4.0  \n",
       "week_of_year            13.0          27.0           40.0          52.0  "
      ]
     },
     "execution_count": 11,
     "metadata": {},
     "output_type": "execute_result"
    }
   ],
   "source": [
    "# display statistical summary of numerical columns\n",
    "order_details.describe().T"
   ]
  },
  {
   "cell_type": "markdown",
   "id": "04393198",
   "metadata": {},
   "source": [
    "- Now , Let's work with another data set  `product_details`"
   ]
  },
  {
   "cell_type": "code",
   "execution_count": 12,
   "id": "258e819d",
   "metadata": {},
   "outputs": [
    {
     "data": {
      "text/html": [
       "<div>\n",
       "<style scoped>\n",
       "    .dataframe tbody tr th:only-of-type {\n",
       "        vertical-align: middle;\n",
       "    }\n",
       "\n",
       "    .dataframe tbody tr th {\n",
       "        vertical-align: top;\n",
       "    }\n",
       "\n",
       "    .dataframe thead th {\n",
       "        text-align: right;\n",
       "    }\n",
       "</style>\n",
       "<table border=\"1\" class=\"dataframe\">\n",
       "  <thead>\n",
       "    <tr style=\"text-align: right;\">\n",
       "      <th></th>\n",
       "      <th>product_id</th>\n",
       "      <th>product</th>\n",
       "      <th>brand</th>\n",
       "      <th>type</th>\n",
       "      <th>length</th>\n",
       "      <th>category</th>\n",
       "      <th>sub_category</th>\n",
       "    </tr>\n",
       "  </thead>\n",
       "  <tbody>\n",
       "    <tr>\n",
       "      <th>0</th>\n",
       "      <td>P0000</td>\n",
       "      <td>serum</td>\n",
       "      <td>Livon</td>\n",
       "      <td>Indian &amp; Exotic Herbs</td>\n",
       "      <td>5 x 20 x 12</td>\n",
       "      <td>Fruits &amp; Vegetables</td>\n",
       "      <td>Herbs &amp; Seasonings</td>\n",
       "    </tr>\n",
       "    <tr>\n",
       "      <th>1</th>\n",
       "      <td>P0001</td>\n",
       "      <td>hand wash - moisture Shield</td>\n",
       "      <td>Savlon</td>\n",
       "      <td>Hair Oil &amp; Serum</td>\n",
       "      <td>13.5 x 22 x 20</td>\n",
       "      <td>Beauty &amp; Hygiene</td>\n",
       "      <td>Hair Care</td>\n",
       "    </tr>\n",
       "    <tr>\n",
       "      <th>2</th>\n",
       "      <td>P0002</td>\n",
       "      <td>good day butter Cookies</td>\n",
       "      <td>Britannia</td>\n",
       "      <td>Hand Wash &amp; Sanitizers</td>\n",
       "      <td>22 x 40 x 22</td>\n",
       "      <td>Beauty &amp; Hygiene</td>\n",
       "      <td>Bath &amp; Hand Wash</td>\n",
       "    </tr>\n",
       "    <tr>\n",
       "      <th>3</th>\n",
       "      <td>P0004</td>\n",
       "      <td>Happy Happy Choco-Chip Cookies</td>\n",
       "      <td>Parle</td>\n",
       "      <td>Cookies</td>\n",
       "      <td>2 x 13 x 4</td>\n",
       "      <td>Snacks &amp; Branded Foods</td>\n",
       "      <td>Biscuits &amp; Cookies</td>\n",
       "    </tr>\n",
       "    <tr>\n",
       "      <th>4</th>\n",
       "      <td>P0005</td>\n",
       "      <td>50-50 Timepass salted biscuits</td>\n",
       "      <td>Britannia</td>\n",
       "      <td>Glucose &amp; Milk Biscuits</td>\n",
       "      <td>16 x 30 x 16</td>\n",
       "      <td>Snacks &amp; Branded Foods</td>\n",
       "      <td>Biscuits &amp; Cookies</td>\n",
       "    </tr>\n",
       "  </tbody>\n",
       "</table>\n",
       "</div>"
      ],
      "text/plain": [
       "  product_id                         product      brand  \\\n",
       "0      P0000                           serum      Livon   \n",
       "1      P0001     hand wash - moisture Shield     Savlon   \n",
       "2      P0002         good day butter Cookies  Britannia   \n",
       "3      P0004  Happy Happy Choco-Chip Cookies      Parle   \n",
       "4      P0005  50-50 Timepass salted biscuits  Britannia   \n",
       "\n",
       "                      type          length                 category  \\\n",
       "0    Indian & Exotic Herbs     5 x 20 x 12     Fruits & Vegetables    \n",
       "1         Hair Oil & Serum  13.5 x 22 x 20        Beauty & Hygiene    \n",
       "2   Hand Wash & Sanitizers    22 x 40 x 22        Beauty & Hygiene    \n",
       "3                  Cookies      2 x 13 x 4  Snacks & Branded Foods    \n",
       "4  Glucose & Milk Biscuits    16 x 30 x 16  Snacks & Branded Foods    \n",
       "\n",
       "          sub_category  \n",
       "0   Herbs & Seasonings  \n",
       "1            Hair Care  \n",
       "2     Bath & Hand Wash  \n",
       "3   Biscuits & Cookies  \n",
       "4   Biscuits & Cookies  "
      ]
     },
     "execution_count": 12,
     "metadata": {},
     "output_type": "execute_result"
    }
   ],
   "source": [
    "# Now, let's read another CSV file into a DataFrame\n",
    "\n",
    "product_details = pd.read_csv('data/product_details.csv')\n",
    "product_details.head()"
   ]
  },
  {
   "cell_type": "code",
   "execution_count": 13,
   "id": "81a9a4cd",
   "metadata": {},
   "outputs": [
    {
     "name": "stdout",
     "output_type": "stream",
     "text": [
      "<class 'pandas.core.frame.DataFrame'>\n",
      "RangeIndex: 3495 entries, 0 to 3494\n",
      "Data columns (total 7 columns):\n",
      " #   Column        Non-Null Count  Dtype \n",
      "---  ------        --------------  ----- \n",
      " 0   product_id    3495 non-null   object\n",
      " 1   product       3490 non-null   object\n",
      " 2   brand         3490 non-null   object\n",
      " 3   type          3495 non-null   object\n",
      " 4   length        3415 non-null   object\n",
      " 5   category      3495 non-null   object\n",
      " 6   sub_category  3495 non-null   object\n",
      "dtypes: object(7)\n",
      "memory usage: 191.3+ KB\n"
     ]
    }
   ],
   "source": [
    "# display summary information about the DataFrame\n",
    "product_details.info()"
   ]
  },
  {
   "cell_type": "code",
   "execution_count": 14,
   "id": "9c7a4b60",
   "metadata": {},
   "outputs": [
    {
     "data": {
      "text/plain": [
       "product_id       0\n",
       "product          5\n",
       "brand            5\n",
       "type             0\n",
       "length          80\n",
       "category         0\n",
       "sub_category     0\n",
       "dtype: int64"
      ]
     },
     "execution_count": 14,
     "metadata": {},
     "output_type": "execute_result"
    }
   ],
   "source": [
    "# check for missing values in the DataFrame\n",
    "product_details.isnull().sum()"
   ]
  },
  {
   "cell_type": "markdown",
   "id": "7c83ed1e",
   "metadata": {},
   "source": [
    "- product, brand and length columns has missing values"
   ]
  },
  {
   "cell_type": "code",
   "execution_count": 15,
   "id": "993b19f8",
   "metadata": {},
   "outputs": [
    {
     "data": {
      "text/plain": [
       "np.int64(2796)"
      ]
     },
     "execution_count": 15,
     "metadata": {},
     "output_type": "execute_result"
    }
   ],
   "source": [
    "# check for duplicate rows in the DataFrame\n",
    "product_details.duplicated().sum()"
   ]
  },
  {
   "cell_type": "markdown",
   "id": "9c2dc927",
   "metadata": {},
   "source": [
    "- product_details dataset has duplicated values\n",
    "\n",
    "\n",
    "- Let's filter missing and duplicated values in this dataset"
   ]
  },
  {
   "cell_type": "code",
   "execution_count": 16,
   "id": "8c8ada60",
   "metadata": {},
   "outputs": [
    {
     "name": "stdout",
     "output_type": "stream",
     "text": [
      "<class 'pandas.core.frame.DataFrame'>\n",
      "RangeIndex: 3495 entries, 0 to 3494\n",
      "Data columns (total 7 columns):\n",
      " #   Column        Non-Null Count  Dtype \n",
      "---  ------        --------------  ----- \n",
      " 0   product_id    3495 non-null   object\n",
      " 1   product       3490 non-null   object\n",
      " 2   brand         3490 non-null   object\n",
      " 3   type          3495 non-null   object\n",
      " 4   length        3415 non-null   object\n",
      " 5   category      3495 non-null   object\n",
      " 6   sub_category  3495 non-null   object\n",
      "dtypes: object(7)\n",
      "memory usage: 191.3+ KB\n"
     ]
    }
   ],
   "source": [
    "# display summary information about the DataFrame\n",
    "product_details.info()"
   ]
  },
  {
   "cell_type": "code",
   "execution_count": 19,
   "id": "42d747f0",
   "metadata": {},
   "outputs": [],
   "source": [
    "import warnings\n",
    "warnings.filterwarnings('ignore')"
   ]
  },
  {
   "cell_type": "code",
   "execution_count": 20,
   "metadata": {},
   "outputs": [],
   "source": [
    "# fill missing values with the mode of the respective columns\n",
    "product_details['product'].fillna(product_details['product'].mode()[0], inplace=True)\n",
    "product_details['brand'].fillna(product_details['brand'].mode()[0], inplace=True)"
   ]
  },
  {
   "cell_type": "code",
   "execution_count": 21,
   "id": "8edefcaa",
   "metadata": {},
   "outputs": [],
   "source": [
    "# remove unnecessary 'length' column\n",
    "product_details.drop('length', axis=1, inplace=True)"
   ]
  },
  {
   "cell_type": "code",
   "execution_count": 22,
   "id": "ee2b33a2",
   "metadata": {},
   "outputs": [],
   "source": [
    "# remove duplicate rows from the DataFrame\n",
    "product_details.drop_duplicates(inplace=True)"
   ]
  },
  {
   "cell_type": "code",
   "execution_count": 23,
   "id": "0f05550b",
   "metadata": {},
   "outputs": [
    {
     "data": {
      "text/plain": [
       "product_id      0\n",
       "product         0\n",
       "brand           0\n",
       "type            0\n",
       "category        0\n",
       "sub_category    0\n",
       "dtype: int64"
      ]
     },
     "execution_count": 23,
     "metadata": {},
     "output_type": "execute_result"
    }
   ],
   "source": [
    "product_details.isnull().sum()"
   ]
  },
  {
   "cell_type": "markdown",
   "id": "13048b19",
   "metadata": {},
   "source": [
    "- *`product_details datset has been filtered`*"
   ]
  },
  {
   "cell_type": "code",
   "execution_count": null,
   "id": "8e293365",
   "metadata": {},
   "outputs": [
    {
     "data": {
      "text/html": [
       "<div>\n",
       "<style scoped>\n",
       "    .dataframe tbody tr th:only-of-type {\n",
       "        vertical-align: middle;\n",
       "    }\n",
       "\n",
       "    .dataframe tbody tr th {\n",
       "        vertical-align: top;\n",
       "    }\n",
       "\n",
       "    .dataframe thead th {\n",
       "        text-align: right;\n",
       "    }\n",
       "</style>\n",
       "<table border=\"1\" class=\"dataframe\">\n",
       "  <thead>\n",
       "    <tr style=\"text-align: right;\">\n",
       "      <th></th>\n",
       "      <th>store_id</th>\n",
       "      <th>storetype_id</th>\n",
       "      <th>store_szie</th>\n",
       "      <th>city_id</th>\n",
       "      <th>state_code</th>\n",
       "      <th>state</th>\n",
       "      <th>city</th>\n",
       "    </tr>\n",
       "  </thead>\n",
       "  <tbody>\n",
       "    <tr>\n",
       "      <th>0</th>\n",
       "      <td>S0091</td>\n",
       "      <td>ST04</td>\n",
       "      <td>19 m²</td>\n",
       "      <td>C013</td>\n",
       "      <td>AR</td>\n",
       "      <td>Arkansas</td>\n",
       "      <td>Hot Springs National Park</td>\n",
       "    </tr>\n",
       "    <tr>\n",
       "      <th>1</th>\n",
       "      <td>S0012</td>\n",
       "      <td>ST04</td>\n",
       "      <td>28 m²</td>\n",
       "      <td>C005</td>\n",
       "      <td>TX</td>\n",
       "      <td>Texas</td>\n",
       "      <td>Huntsville</td>\n",
       "    </tr>\n",
       "    <tr>\n",
       "      <th>2</th>\n",
       "      <td>S0045</td>\n",
       "      <td>ST04</td>\n",
       "      <td>17 qm</td>\n",
       "      <td>C008</td>\n",
       "      <td>NC</td>\n",
       "      <td>North Carolina</td>\n",
       "      <td>Asheville</td>\n",
       "    </tr>\n",
       "    <tr>\n",
       "      <th>3</th>\n",
       "      <td>S0032</td>\n",
       "      <td>ST03</td>\n",
       "      <td>14 m²</td>\n",
       "      <td>C019</td>\n",
       "      <td>CA</td>\n",
       "      <td>California</td>\n",
       "      <td>Los Angeles</td>\n",
       "    </tr>\n",
       "    <tr>\n",
       "      <th>4</th>\n",
       "      <td>S0027</td>\n",
       "      <td>ST04</td>\n",
       "      <td>24 qm</td>\n",
       "      <td>C022</td>\n",
       "      <td>TX</td>\n",
       "      <td>Texas</td>\n",
       "      <td>Texarkana</td>\n",
       "    </tr>\n",
       "  </tbody>\n",
       "</table>\n",
       "</div>"
      ],
      "text/plain": [
       "  store_id storetype_id store_szie city_id state_code             state  \\\n",
       "0    S0091         ST04      19 m²    C013        AR          Arkansas    \n",
       "1    S0012         ST04      28 m²    C005        TX             Texas    \n",
       "2    S0045         ST04      17 qm    C008        NC    North Carolina    \n",
       "3    S0032         ST03      14 m²    C019        CA        California    \n",
       "4    S0027         ST04      24 qm    C022        TX             Texas    \n",
       "\n",
       "                         city  \n",
       "0   Hot Springs National Park  \n",
       "1                  Huntsville  \n",
       "2                   Asheville  \n",
       "3                 Los Angeles  \n",
       "4                   Texarkana  "
      ]
     },
     "execution_count": 24,
     "metadata": {},
     "output_type": "execute_result"
    }
   ],
   "source": [
    "# Now, let's read another CSV file into a DataFrame\n",
    "\n",
    "store_cities = pd.read_csv('data/store_cities.csv')\n",
    "store_cities.head()"
   ]
  },
  {
   "cell_type": "code",
   "execution_count": 25,
   "id": "187d7478",
   "metadata": {},
   "outputs": [
    {
     "name": "stdout",
     "output_type": "stream",
     "text": [
      "<class 'pandas.core.frame.DataFrame'>\n",
      "RangeIndex: 144 entries, 0 to 143\n",
      "Data columns (total 7 columns):\n",
      " #   Column        Non-Null Count  Dtype \n",
      "---  ------        --------------  ----- \n",
      " 0   store_id      144 non-null    object\n",
      " 1   storetype_id  144 non-null    object\n",
      " 2   store_szie    144 non-null    object\n",
      " 3   city_id       144 non-null    object\n",
      " 4   state_code    144 non-null    object\n",
      " 5   state         144 non-null    object\n",
      " 6   city          144 non-null    object\n",
      "dtypes: object(7)\n",
      "memory usage: 8.0+ KB\n"
     ]
    }
   ],
   "source": [
    "# display summary information about the DataFrame\n",
    "store_cities.info()"
   ]
  },
  {
   "cell_type": "code",
   "execution_count": 26,
   "id": "6fd9d716",
   "metadata": {},
   "outputs": [
    {
     "data": {
      "text/plain": [
       "store_id        0\n",
       "storetype_id    0\n",
       "store_szie      0\n",
       "city_id         0\n",
       "state_code      0\n",
       "state           0\n",
       "city            0\n",
       "dtype: int64"
      ]
     },
     "execution_count": 26,
     "metadata": {},
     "output_type": "execute_result"
    }
   ],
   "source": [
    "# check for missing values in the DataFrame\n",
    "store_cities.isnull().sum()"
   ]
  },
  {
   "cell_type": "code",
   "execution_count": 27,
   "id": "27392da3",
   "metadata": {},
   "outputs": [
    {
     "data": {
      "text/plain": [
       "np.int64(0)"
      ]
     },
     "execution_count": 27,
     "metadata": {},
     "output_type": "execute_result"
    }
   ],
   "source": [
    "# check for duplicate rows in the DataFrame\n",
    "store_cities.duplicated().sum()"
   ]
  },
  {
   "cell_type": "markdown",
   "id": "5437b2d5",
   "metadata": {},
   "source": [
    "### *`Lets merge these dataframes into a single dataframe for analysis`*"
   ]
  },
  {
   "cell_type": "code",
   "execution_count": null,
   "id": "3c28bb14",
   "metadata": {},
   "outputs": [],
   "source": [
    "# merge order_details and product_details on 'product_id'\n",
    "merge_order_n_product = pd.merge(order_details, product_details, on='product_id', how='left')"
   ]
  },
  {
   "cell_type": "code",
   "execution_count": 29,
   "id": "597b57d0",
   "metadata": {},
   "outputs": [
    {
     "data": {
      "text/html": [
       "<div>\n",
       "<style scoped>\n",
       "    .dataframe tbody tr th:only-of-type {\n",
       "        vertical-align: middle;\n",
       "    }\n",
       "\n",
       "    .dataframe tbody tr th {\n",
       "        vertical-align: top;\n",
       "    }\n",
       "\n",
       "    .dataframe thead th {\n",
       "        text-align: right;\n",
       "    }\n",
       "</style>\n",
       "<table border=\"1\" class=\"dataframe\">\n",
       "  <thead>\n",
       "    <tr style=\"text-align: right;\">\n",
       "      <th></th>\n",
       "      <th>product_id</th>\n",
       "      <th>store_id</th>\n",
       "      <th>selling_price</th>\n",
       "      <th>customer_id</th>\n",
       "      <th>order_id</th>\n",
       "      <th>year</th>\n",
       "      <th>month</th>\n",
       "      <th>day</th>\n",
       "      <th>day_of_week</th>\n",
       "      <th>quarter</th>\n",
       "      <th>week_of_year</th>\n",
       "      <th>product</th>\n",
       "      <th>brand</th>\n",
       "      <th>type</th>\n",
       "      <th>category</th>\n",
       "      <th>sub_category</th>\n",
       "    </tr>\n",
       "  </thead>\n",
       "  <tbody>\n",
       "    <tr>\n",
       "      <th>0</th>\n",
       "      <td>P0506</td>\n",
       "      <td>S0063</td>\n",
       "      <td>4427</td>\n",
       "      <td>123564153</td>\n",
       "      <td>1111139641</td>\n",
       "      <td>2025</td>\n",
       "      <td>1</td>\n",
       "      <td>1</td>\n",
       "      <td>2</td>\n",
       "      <td>1</td>\n",
       "      <td>1</td>\n",
       "      <td>Chakra Stainless Steel Scrub</td>\n",
       "      <td>Scotch brite</td>\n",
       "      <td>Blended Masalas</td>\n",
       "      <td>Foodgrains, Oil &amp; Masala</td>\n",
       "      <td>Masalas &amp; Spices</td>\n",
       "    </tr>\n",
       "    <tr>\n",
       "      <th>1</th>\n",
       "      <td>P0061</td>\n",
       "      <td>S0084</td>\n",
       "      <td>3125</td>\n",
       "      <td>123523135</td>\n",
       "      <td>1111134828</td>\n",
       "      <td>2025</td>\n",
       "      <td>1</td>\n",
       "      <td>1</td>\n",
       "      <td>2</td>\n",
       "      <td>1</td>\n",
       "      <td>1</td>\n",
       "      <td>Jasmine Bloom Soap Bar</td>\n",
       "      <td>Lux</td>\n",
       "      <td>Bathing Bars &amp; Soaps</td>\n",
       "      <td>Beauty &amp; Hygiene</td>\n",
       "      <td>Bath &amp; Hand Wash</td>\n",
       "    </tr>\n",
       "    <tr>\n",
       "      <th>2</th>\n",
       "      <td>P0608</td>\n",
       "      <td>S0105</td>\n",
       "      <td>2438</td>\n",
       "      <td>123528720</td>\n",
       "      <td>1111141728</td>\n",
       "      <td>2025</td>\n",
       "      <td>1</td>\n",
       "      <td>1</td>\n",
       "      <td>2</td>\n",
       "      <td>1</td>\n",
       "      <td>1</td>\n",
       "      <td>Milk Shake - Strawberry</td>\n",
       "      <td>Milky Mist</td>\n",
       "      <td>Flavoured, Soya Milk</td>\n",
       "      <td>Bakery, Cakes &amp; Dairy</td>\n",
       "      <td>Dairy</td>\n",
       "    </tr>\n",
       "    <tr>\n",
       "      <th>3</th>\n",
       "      <td>P0470</td>\n",
       "      <td>S0031</td>\n",
       "      <td>3887</td>\n",
       "      <td>123552589</td>\n",
       "      <td>1111122688</td>\n",
       "      <td>2025</td>\n",
       "      <td>1</td>\n",
       "      <td>1</td>\n",
       "      <td>2</td>\n",
       "      <td>1</td>\n",
       "      <td>1</td>\n",
       "      <td>Multigrain Biscuit</td>\n",
       "      <td>Chai Point</td>\n",
       "      <td>Rusks</td>\n",
       "      <td>Bakery, Cakes &amp; Dairy</td>\n",
       "      <td>Cookies, Rusk &amp; Khari</td>\n",
       "    </tr>\n",
       "    <tr>\n",
       "      <th>4</th>\n",
       "      <td>P0682</td>\n",
       "      <td>S0015</td>\n",
       "      <td>4194</td>\n",
       "      <td>123457812</td>\n",
       "      <td>1111120360</td>\n",
       "      <td>2025</td>\n",
       "      <td>1</td>\n",
       "      <td>1</td>\n",
       "      <td>2</td>\n",
       "      <td>1</td>\n",
       "      <td>1</td>\n",
       "      <td>Wafers - Waffy</td>\n",
       "      <td>Orange Flavor</td>\n",
       "      <td>Cookies</td>\n",
       "      <td>Snacks &amp; Branded Foods</td>\n",
       "      <td>Biscuits &amp; Cookies</td>\n",
       "    </tr>\n",
       "  </tbody>\n",
       "</table>\n",
       "</div>"
      ],
      "text/plain": [
       "  product_id store_id  selling_price  customer_id    order_id  year  month  \\\n",
       "0      P0506    S0063           4427    123564153  1111139641  2025      1   \n",
       "1      P0061    S0084           3125    123523135  1111134828  2025      1   \n",
       "2      P0608    S0105           2438    123528720  1111141728  2025      1   \n",
       "3      P0470    S0031           3887    123552589  1111122688  2025      1   \n",
       "4      P0682    S0015           4194    123457812  1111120360  2025      1   \n",
       "\n",
       "   day  day_of_week  quarter  week_of_year                       product  \\\n",
       "0    1            2        1             1  Chakra Stainless Steel Scrub   \n",
       "1    1            2        1             1        Jasmine Bloom Soap Bar   \n",
       "2    1            2        1             1       Milk Shake - Strawberry   \n",
       "3    1            2        1             1            Multigrain Biscuit   \n",
       "4    1            2        1             1                Wafers - Waffy   \n",
       "\n",
       "           brand                  type                   category  \\\n",
       "0   Scotch brite       Blended Masalas  Foodgrains, Oil & Masala    \n",
       "1            Lux  Bathing Bars & Soaps          Beauty & Hygiene    \n",
       "2     Milky Mist  Flavoured, Soya Milk     Bakery, Cakes & Dairy    \n",
       "3     Chai Point                 Rusks     Bakery, Cakes & Dairy    \n",
       "4  Orange Flavor               Cookies    Snacks & Branded Foods    \n",
       "\n",
       "             sub_category  \n",
       "0        Masalas & Spices  \n",
       "1        Bath & Hand Wash  \n",
       "2                   Dairy  \n",
       "3   Cookies, Rusk & Khari  \n",
       "4      Biscuits & Cookies  "
      ]
     },
     "execution_count": 29,
     "metadata": {},
     "output_type": "execute_result"
    }
   ],
   "source": [
    "merge_order_n_product.head()"
   ]
  },
  {
   "cell_type": "code",
   "execution_count": null,
   "id": "7355af40",
   "metadata": {},
   "outputs": [],
   "source": [
    "# merge the resulting DataFrame with store_cities on 'store_id'\n",
    "final_data = pd.merge(merge_order_n_product, store_cities, on='store_id', how='left')"
   ]
  },
  {
   "cell_type": "code",
   "execution_count": null,
   "id": "6c760e27",
   "metadata": {},
   "outputs": [],
   "source": [
    "# final_data.to_csv('data/final_data.csv', index=False)"
   ]
  },
  {
   "cell_type": "code",
   "execution_count": 31,
   "id": "7f5aed01",
   "metadata": {},
   "outputs": [
    {
     "data": {
      "text/html": [
       "<div>\n",
       "<style scoped>\n",
       "    .dataframe tbody tr th:only-of-type {\n",
       "        vertical-align: middle;\n",
       "    }\n",
       "\n",
       "    .dataframe tbody tr th {\n",
       "        vertical-align: top;\n",
       "    }\n",
       "\n",
       "    .dataframe thead th {\n",
       "        text-align: right;\n",
       "    }\n",
       "</style>\n",
       "<table border=\"1\" class=\"dataframe\">\n",
       "  <thead>\n",
       "    <tr style=\"text-align: right;\">\n",
       "      <th></th>\n",
       "      <th>product_id</th>\n",
       "      <th>store_id</th>\n",
       "      <th>selling_price</th>\n",
       "      <th>customer_id</th>\n",
       "      <th>order_id</th>\n",
       "      <th>year</th>\n",
       "      <th>month</th>\n",
       "      <th>day</th>\n",
       "      <th>day_of_week</th>\n",
       "      <th>quarter</th>\n",
       "      <th>...</th>\n",
       "      <th>brand</th>\n",
       "      <th>type</th>\n",
       "      <th>category</th>\n",
       "      <th>sub_category</th>\n",
       "      <th>storetype_id</th>\n",
       "      <th>store_szie</th>\n",
       "      <th>city_id</th>\n",
       "      <th>state_code</th>\n",
       "      <th>state</th>\n",
       "      <th>city</th>\n",
       "    </tr>\n",
       "  </thead>\n",
       "  <tbody>\n",
       "    <tr>\n",
       "      <th>0</th>\n",
       "      <td>P0506</td>\n",
       "      <td>S0063</td>\n",
       "      <td>4427</td>\n",
       "      <td>123564153</td>\n",
       "      <td>1111139641</td>\n",
       "      <td>2025</td>\n",
       "      <td>1</td>\n",
       "      <td>1</td>\n",
       "      <td>2</td>\n",
       "      <td>1</td>\n",
       "      <td>...</td>\n",
       "      <td>Scotch brite</td>\n",
       "      <td>Blended Masalas</td>\n",
       "      <td>Foodgrains, Oil &amp; Masala</td>\n",
       "      <td>Masalas &amp; Spices</td>\n",
       "      <td>ST04</td>\n",
       "      <td>23 qm</td>\n",
       "      <td>C033</td>\n",
       "      <td>FL</td>\n",
       "      <td>Florida</td>\n",
       "      <td>Miami</td>\n",
       "    </tr>\n",
       "    <tr>\n",
       "      <th>1</th>\n",
       "      <td>P0061</td>\n",
       "      <td>S0084</td>\n",
       "      <td>3125</td>\n",
       "      <td>123523135</td>\n",
       "      <td>1111134828</td>\n",
       "      <td>2025</td>\n",
       "      <td>1</td>\n",
       "      <td>1</td>\n",
       "      <td>2</td>\n",
       "      <td>1</td>\n",
       "      <td>...</td>\n",
       "      <td>Lux</td>\n",
       "      <td>Bathing Bars &amp; Soaps</td>\n",
       "      <td>Beauty &amp; Hygiene</td>\n",
       "      <td>Bath &amp; Hand Wash</td>\n",
       "      <td>ST04</td>\n",
       "      <td>19 qm</td>\n",
       "      <td>C022</td>\n",
       "      <td>DC</td>\n",
       "      <td>District of Columbia</td>\n",
       "      <td>Washington</td>\n",
       "    </tr>\n",
       "    <tr>\n",
       "      <th>2</th>\n",
       "      <td>P0608</td>\n",
       "      <td>S0105</td>\n",
       "      <td>2438</td>\n",
       "      <td>123528720</td>\n",
       "      <td>1111141728</td>\n",
       "      <td>2025</td>\n",
       "      <td>1</td>\n",
       "      <td>1</td>\n",
       "      <td>2</td>\n",
       "      <td>1</td>\n",
       "      <td>...</td>\n",
       "      <td>Milky Mist</td>\n",
       "      <td>Flavoured, Soya Milk</td>\n",
       "      <td>Bakery, Cakes &amp; Dairy</td>\n",
       "      <td>Dairy</td>\n",
       "      <td>ST04</td>\n",
       "      <td>25 qm</td>\n",
       "      <td>C032</td>\n",
       "      <td>NY</td>\n",
       "      <td>New York</td>\n",
       "      <td>Syracuse</td>\n",
       "    </tr>\n",
       "    <tr>\n",
       "      <th>3</th>\n",
       "      <td>P0470</td>\n",
       "      <td>S0031</td>\n",
       "      <td>3887</td>\n",
       "      <td>123552589</td>\n",
       "      <td>1111122688</td>\n",
       "      <td>2025</td>\n",
       "      <td>1</td>\n",
       "      <td>1</td>\n",
       "      <td>2</td>\n",
       "      <td>1</td>\n",
       "      <td>...</td>\n",
       "      <td>Chai Point</td>\n",
       "      <td>Rusks</td>\n",
       "      <td>Bakery, Cakes &amp; Dairy</td>\n",
       "      <td>Cookies, Rusk &amp; Khari</td>\n",
       "      <td>ST04</td>\n",
       "      <td>41 qm</td>\n",
       "      <td>C036</td>\n",
       "      <td>AZ</td>\n",
       "      <td>Arizona</td>\n",
       "      <td>Phoenix</td>\n",
       "    </tr>\n",
       "    <tr>\n",
       "      <th>4</th>\n",
       "      <td>P0682</td>\n",
       "      <td>S0015</td>\n",
       "      <td>4194</td>\n",
       "      <td>123457812</td>\n",
       "      <td>1111120360</td>\n",
       "      <td>2025</td>\n",
       "      <td>1</td>\n",
       "      <td>1</td>\n",
       "      <td>2</td>\n",
       "      <td>1</td>\n",
       "      <td>...</td>\n",
       "      <td>Orange Flavor</td>\n",
       "      <td>Cookies</td>\n",
       "      <td>Snacks &amp; Branded Foods</td>\n",
       "      <td>Biscuits &amp; Cookies</td>\n",
       "      <td>ST04</td>\n",
       "      <td>19 qm</td>\n",
       "      <td>C014</td>\n",
       "      <td>TN</td>\n",
       "      <td>Tennessee</td>\n",
       "      <td>Knoxville</td>\n",
       "    </tr>\n",
       "  </tbody>\n",
       "</table>\n",
       "<p>5 rows × 22 columns</p>\n",
       "</div>"
      ],
      "text/plain": [
       "  product_id store_id  selling_price  customer_id    order_id  year  month  \\\n",
       "0      P0506    S0063           4427    123564153  1111139641  2025      1   \n",
       "1      P0061    S0084           3125    123523135  1111134828  2025      1   \n",
       "2      P0608    S0105           2438    123528720  1111141728  2025      1   \n",
       "3      P0470    S0031           3887    123552589  1111122688  2025      1   \n",
       "4      P0682    S0015           4194    123457812  1111120360  2025      1   \n",
       "\n",
       "   day  day_of_week  quarter  ...          brand                  type  \\\n",
       "0    1            2        1  ...   Scotch brite       Blended Masalas   \n",
       "1    1            2        1  ...            Lux  Bathing Bars & Soaps   \n",
       "2    1            2        1  ...     Milky Mist  Flavoured, Soya Milk   \n",
       "3    1            2        1  ...     Chai Point                 Rusks   \n",
       "4    1            2        1  ...  Orange Flavor               Cookies   \n",
       "\n",
       "                    category            sub_category storetype_id store_szie  \\\n",
       "0  Foodgrains, Oil & Masala         Masalas & Spices         ST04      23 qm   \n",
       "1          Beauty & Hygiene         Bath & Hand Wash         ST04      19 qm   \n",
       "2     Bakery, Cakes & Dairy                    Dairy         ST04      25 qm   \n",
       "3     Bakery, Cakes & Dairy    Cookies, Rusk & Khari         ST04      41 qm   \n",
       "4    Snacks & Branded Foods       Biscuits & Cookies         ST04      19 qm   \n",
       "\n",
       "  city_id state_code                   state         city  \n",
       "0    C033        FL                 Florida         Miami  \n",
       "1    C022        DC    District of Columbia    Washington  \n",
       "2    C032        NY                New York      Syracuse  \n",
       "3    C036        AZ                 Arizona       Phoenix  \n",
       "4    C014        TN               Tennessee     Knoxville  \n",
       "\n",
       "[5 rows x 22 columns]"
      ]
     },
     "execution_count": 31,
     "metadata": {},
     "output_type": "execute_result"
    }
   ],
   "source": [
    "final_data.head()"
   ]
  },
  {
   "cell_type": "code",
   "execution_count": 32,
   "id": "9d7614f9",
   "metadata": {},
   "outputs": [
    {
     "name": "stdout",
     "output_type": "stream",
     "text": [
      "<class 'pandas.core.frame.DataFrame'>\n",
      "RangeIndex: 74408 entries, 0 to 74407\n",
      "Data columns (total 22 columns):\n",
      " #   Column         Non-Null Count  Dtype \n",
      "---  ------         --------------  ----- \n",
      " 0   product_id     74408 non-null  object\n",
      " 1   store_id       74408 non-null  object\n",
      " 2   selling_price  74408 non-null  int64 \n",
      " 3   customer_id    74408 non-null  int64 \n",
      " 4   order_id       74408 non-null  int64 \n",
      " 5   year           74408 non-null  int32 \n",
      " 6   month          74408 non-null  int32 \n",
      " 7   day            74408 non-null  int32 \n",
      " 8   day_of_week    74408 non-null  int32 \n",
      " 9   quarter        74408 non-null  int32 \n",
      " 10  week_of_year   74408 non-null  UInt32\n",
      " 11  product        74408 non-null  object\n",
      " 12  brand          74408 non-null  object\n",
      " 13  type           74408 non-null  object\n",
      " 14  category       74408 non-null  object\n",
      " 15  sub_category   74408 non-null  object\n",
      " 16  storetype_id   74408 non-null  object\n",
      " 17  store_szie     74408 non-null  object\n",
      " 18  city_id        74408 non-null  object\n",
      " 19  state_code     74408 non-null  object\n",
      " 20  state          74408 non-null  object\n",
      " 21  city           74408 non-null  object\n",
      "dtypes: UInt32(1), int32(5), int64(3), object(13)\n",
      "memory usage: 10.9+ MB\n"
     ]
    }
   ],
   "source": [
    "final_data.info()"
   ]
  },
  {
   "cell_type": "markdown",
   "id": "28914ce7",
   "metadata": {},
   "source": [
    "#  `Sales Overview`"
   ]
  },
  {
   "cell_type": "code",
   "execution_count": 37,
   "id": "9d6223eb",
   "metadata": {},
   "outputs": [
    {
     "name": "stdout",
     "output_type": "stream",
     "text": [
      "Total Sales: 190407631, Total Orders: 74408, Average Sale: 2558.97\n"
     ]
    }
   ],
   "source": [
    "# Calculate total sales, total orders, and average sale amount\n",
    "\n",
    "total_sales = final_data['selling_price'].sum()\n",
    "total_orders = final_data['order_id'].nunique()\n",
    "avg_sale = round(final_data['selling_price'].mean(),2)\n",
    "print(f\"Total Sales: {total_sales}, Total Orders: {total_orders}, Average Sale: {avg_sale}\")\n"
   ]
  },
  {
   "cell_type": "markdown",
   "id": "5659d881",
   "metadata": {},
   "source": [
    "# `Top Products and Brands`"
   ]
  },
  {
   "cell_type": "code",
   "execution_count": 38,
   "id": "5f9bf788",
   "metadata": {},
   "outputs": [],
   "source": [
    "# Top 10 sold products\n",
    "top_products = final_data.groupby('product')['selling_price'].sum().sort_values(ascending=False).head(10)\n",
    "top_brands = final_data.groupby('brand')['selling_price'].sum().sort_values(ascending=False).head(10)\n"
   ]
  },
  {
   "cell_type": "code",
   "execution_count": null,
   "id": "9a213eba",
   "metadata": {},
   "outputs": [
    {
     "name": "stdout",
     "output_type": "stream",
     "text": [
      "brand\n",
      "Fresho       40898426\n",
      "Britannia     9345357\n",
      "bb Royal      6415423\n",
      "Timios        5117495\n",
      "Amul          4979531\n",
      "Chings        4144303\n",
      "Keya          3533738\n",
      "Saffola       3271636\n",
      "Kohinoor      3176974\n",
      "Parle         3175609\n",
      "Name: selling_price, dtype: int64\n",
      "--------------------------------------------------------------------------------\n",
      "product\n",
      "Baby Corn - Unpeeled                                                 2023022\n",
      "Snacks - Stars, Banana & Honey, 2+ Years, 100% Natural & Healthy     1905959\n",
      "Snacks - Sticks, Carrot & Cumin, 2+ Years, 100% Natural & Healthy    1748098\n",
      "Ready to Cook - Potato French Fries                                  1698318\n",
      "Snacks - Rings, Tomato & Cheese, 2+ Years, 100% Natural & Healthy    1463438\n",
      "Skin Lightening Oxygen Bleach - Rich Fairness                        1457470\n",
      "Black Mustard/Sasive/Rai - Big                                       1440194\n",
      "Coccinia - Organically Grown                                         1419391\n",
      "Instant Popcorn - Chilly Surprise                                    1410178\n",
      "Lemon Grass                                                          1396973\n",
      "Name: selling_price, dtype: int64\n"
     ]
    }
   ],
   "source": [
    "\n",
    "print(top_brands)\n",
    "print('----'*20)\n",
    "print(top_products)"
   ]
  },
  {
   "cell_type": "markdown",
   "id": "13d0eaab",
   "metadata": {},
   "source": [
    "# `Sales by Category/Subcategory`"
   ]
  },
  {
   "cell_type": "code",
   "execution_count": 50,
   "id": "6776ab27",
   "metadata": {},
   "outputs": [],
   "source": [
    "\n",
    "sales_by_cat = final_data.groupby('category')['selling_price'].sum().sort_values(ascending=False)\n",
    "sales_by_subcat = final_data.groupby('sub_category')['selling_price'].sum().sort_values(ascending=False)"
   ]
  },
  {
   "cell_type": "code",
   "execution_count": 51,
   "id": "9d1e1b3c",
   "metadata": {},
   "outputs": [
    {
     "name": "stdout",
     "output_type": "stream",
     "text": [
      "category\n",
      "Snacks & Branded Foods       62380362\n",
      "Fruits & Vegetables          41953688\n",
      "Beauty & Hygiene             18843110\n",
      "Foodgrains, Oil & Masala     18755166\n",
      "Bakery, Cakes & Dairy        18521539\n",
      "Cleaning & Household         14509634\n",
      "Beverages                     7701225\n",
      "Gourmet & World Food          6747169\n",
      "Baby Care                      694349\n",
      "Kitchen, Garden & Pets         301389\n",
      "Name: selling_price, dtype: int64\n",
      "--------------------------------------------------------------------------------\n",
      "sub_category\n",
      "Fresh Vegetables               19043822\n",
      "Snacks & Namkeen               18429916\n",
      "Masalas & Spices               15918885\n",
      "Biscuits & Cookies             15668252\n",
      "Chocolates & Candies            8893916\n",
      "Dairy                           8406131\n",
      "Ready To Cook & Eat             8227205\n",
      "Organic Fruits & Vegetables     8191822\n",
      "Cakes & Pastries                6480983\n",
      "Cuts & Sprouts                  6358396\n",
      "Bath & Hand Wash                5321637\n",
      "Fruit Juices & Drinks           4864596\n",
      "Pooja Needs                     4773875\n",
      "Exotic Fruits & Veggies         4733178\n",
      "Breakfast Cereals               4302071\n",
      "Spreads, Sauces, Ketchup        3872233\n",
      "Men's Grooming                  3597950\n",
      "Detergents & Dishwash           3582059\n",
      "Drinks & Beverages              3263748\n",
      "Stationery                      3165202\n",
      "Health & Medicine               3121601\n",
      "Snacks, Dry Fruits, Nuts        3034816\n",
      "Skin Care                       2843938\n",
      "Oral Care                       2385554\n",
      "Herbs & Seasonings              2145327\n",
      "Party & Festive Needs           1748414\n",
      "Noodle, Pasta, Vermicelli       1727033\n",
      "Gourmet Breads                  1720319\n",
      "Water                           1480368\n",
      "Indian Mithai                   1259736\n",
      "Hair Care                       1214406\n",
      "Salt, Sugar & Jaggery           1184397\n",
      "Organic Staples                 1080703\n",
      "Mops, Brushes & Scrubs          1063165\n",
      "Fresh Fruits                    1025913\n",
      "Cookies, Rusk & Khari            976489\n",
      "Breads & Buns                    937617\n",
      "Energy & Soft Drinks             922819\n",
      "Diapers & Wipes                  690139\n",
      "Dals & Pulses                    540821\n",
      "Flower Bouquets, Bunches         455230\n",
      "Coffee                           433442\n",
      "Feminine Hygiene                 358024\n",
      "Appliances & Electricals         176290\n",
      "Cooking & Baking Needs           174632\n",
      "Pasta, Soup & Noodles            173665\n",
      "Fresheners & Repellents          172677\n",
      "Pet Food & Accessories           125099\n",
      "Chocolates & Biscuits             75100\n",
      "Atta, Flours & Sooji              30360\n",
      "Cereals & Breakfast               25208\n",
      "All Purpose Cleaners               4242\n",
      "Baby Bath & Hygiene                4210\n",
      "Name: selling_price, dtype: int64\n"
     ]
    }
   ],
   "source": [
    "print(sales_by_cat)\n",
    "print('----'*20)\n",
    "print(sales_by_subcat)"
   ]
  },
  {
   "cell_type": "markdown",
   "id": "6ee7acf7",
   "metadata": {},
   "source": [
    "# `Sales by State/City`"
   ]
  },
  {
   "cell_type": "code",
   "execution_count": null,
   "id": "f3aa49c0",
   "metadata": {},
   "outputs": [],
   "source": [
    "\n",
    "sales_by_state = final_data.groupby('state')['selling_price'].sum().sort_values(ascending=False)\n",
    "sales_by_city = final_data.groupby('city')['selling_price'].sum().sort_values(ascending=False)"
   ]
  },
  {
   "cell_type": "code",
   "execution_count": 55,
   "id": "01ef158a",
   "metadata": {},
   "outputs": [
    {
     "name": "stdout",
     "output_type": "stream",
     "text": [
      "state\n",
      "Texas                    22903269\n",
      "California               19392615\n",
      "Florida                  17446597\n",
      "Ohio                     14463814\n",
      "Oklahoma                 12637073\n",
      "Arizona                  11429309\n",
      "Missouri                  9484596\n",
      "Iowa                      8452250\n",
      "Alabama                   7032688\n",
      "Minnesota                 6020509\n",
      "Colorado                  5931058\n",
      "Tennessee                 5627145\n",
      "Virginia                  5572219\n",
      "Georgia                   5014448\n",
      "New York                  4964417\n",
      "Pennsylvania              3972045\n",
      "Kentucky                  3810274\n",
      "Illinois                  3658198\n",
      "Massachusetts             3297573\n",
      "District of Columbia      2799597\n",
      "Kansas                    2364413\n",
      "Washington                2300012\n",
      "North Carolina            1801862\n",
      "South Carolina            1776320\n",
      "Indiana                   1757053\n",
      "Arkansas                  1438465\n",
      "Maryland                  1373166\n",
      "Utah                       654321\n",
      "Connecticut                624886\n",
      "Delaware                   587198\n",
      "Louisiana                  566123\n",
      "North Dakota               422763\n",
      "Wisconsin                  352425\n",
      "Hawaii                     305562\n",
      "Idaho                      173368\n",
      "Name: selling_price, dtype: int64\n",
      "--------------------------------------------------------------------------------\n",
      "city\n",
      "Oklahoma City    9848490\n",
      "Phoenix          9421394\n",
      "Springfield      6597847\n",
      "Des Moines       6596094\n",
      "Saint Louis      5381006\n",
      "                  ...   \n",
      "Young America     325279\n",
      "Honolulu          305562\n",
      "Concord           231456\n",
      "Silver Spring     177600\n",
      "Boise             173368\n",
      "Name: selling_price, Length: 100, dtype: int64\n"
     ]
    }
   ],
   "source": [
    "print(sales_by_state)\n",
    "print('----'*20)\n",
    "print(sales_by_city)"
   ]
  },
  {
   "cell_type": "markdown",
   "id": "72c9c2b0",
   "metadata": {},
   "source": [
    "#  `Trend and Time-based Analysis`"
   ]
  },
  {
   "cell_type": "code",
   "execution_count": 56,
   "id": "57a7b1b0",
   "metadata": {},
   "outputs": [
    {
     "name": "stdout",
     "output_type": "stream",
     "text": [
      "<class 'pandas.core.frame.DataFrame'>\n",
      "RangeIndex: 74408 entries, 0 to 74407\n",
      "Data columns (total 22 columns):\n",
      " #   Column         Non-Null Count  Dtype \n",
      "---  ------         --------------  ----- \n",
      " 0   product_id     74408 non-null  object\n",
      " 1   store_id       74408 non-null  object\n",
      " 2   selling_price  74408 non-null  int64 \n",
      " 3   customer_id    74408 non-null  int64 \n",
      " 4   order_id       74408 non-null  int64 \n",
      " 5   year           74408 non-null  int32 \n",
      " 6   month          74408 non-null  int32 \n",
      " 7   day            74408 non-null  int32 \n",
      " 8   day_of_week    74408 non-null  int32 \n",
      " 9   quarter        74408 non-null  int32 \n",
      " 10  week_of_year   74408 non-null  UInt32\n",
      " 11  product        74408 non-null  object\n",
      " 12  brand          74408 non-null  object\n",
      " 13  type           74408 non-null  object\n",
      " 14  category       74408 non-null  object\n",
      " 15  sub_category   74408 non-null  object\n",
      " 16  storetype_id   74408 non-null  object\n",
      " 17  store_szie     74408 non-null  object\n",
      " 18  city_id        74408 non-null  object\n",
      " 19  state_code     74408 non-null  object\n",
      " 20  state          74408 non-null  object\n",
      " 21  city           74408 non-null  object\n",
      "dtypes: UInt32(1), int32(5), int64(3), object(13)\n",
      "memory usage: 10.9+ MB\n"
     ]
    }
   ],
   "source": [
    "final_data.info()"
   ]
  },
  {
   "cell_type": "code",
   "execution_count": null,
   "id": "cbefdc26",
   "metadata": {},
   "outputs": [],
   "source": [
    "# Sales over time (by yearly, quarterly,monthly, weekly or day)\n",
    "\n",
    "# Quarterly sales\n",
    "sales_quarterly = final_data.groupby('quarter')['selling_price'].sum()\n",
    "\n",
    "# Yearly sales\n",
    "sales_yearly = final_data.groupby('year')['selling_price'].sum()\n",
    "\n",
    "# Monthly sales\n",
    "sales_month = final_data.groupby('month')['selling_price'].sum()\n",
    "\n",
    "# Weekly sales\n",
    "sales_weekly = final_data.groupby('week_of_year')['selling_price'].sum()\n",
    "\n",
    "# Daily sales\n",
    "sales_day = final_data.groupby('day')['selling_price'].sum()\n",
    "\n",
    "\n"
   ]
  },
  {
   "cell_type": "code",
   "execution_count": 64,
   "id": "a0d7aa72",
   "metadata": {},
   "outputs": [
    {
     "name": "stdout",
     "output_type": "stream",
     "text": [
      "year\n",
      "2022    48048463\n",
      "2023    47924149\n",
      "2024    47271305\n",
      "2025    47163714\n",
      "Name: selling_price, dtype: int64\n",
      "----------------------------------------------------------------------------------------------------\n",
      "quarter\n",
      "1    47363531\n",
      "2    47163771\n",
      "3    48191343\n",
      "4    47688986\n",
      "Name: selling_price, dtype: int64\n",
      "----------------------------------------------------------------------------------------------------\n",
      "month\n",
      "1     16647777\n",
      "2     14884157\n",
      "3     15831597\n",
      "4     15473116\n",
      "5     16130579\n",
      "6     15560076\n",
      "7     15990461\n",
      "8     16212922\n",
      "9     15987960\n",
      "10    15997630\n",
      "11    15911491\n",
      "12    15779865\n",
      "Name: selling_price, dtype: int64\n",
      "----------------------------------------------------------------------------------------------------\n",
      "week_of_year\n",
      "1     4187931\n",
      "2     3748321\n",
      "3     3697280\n",
      "4     3788111\n",
      "5     3758249\n",
      "6     3593355\n",
      "7     3695916\n",
      "8     3868819\n",
      "9     3523099\n",
      "10    3620791\n",
      "11    3527551\n",
      "12    3586029\n",
      "13    3525884\n",
      "14    3635879\n",
      "15    3640987\n",
      "16    3710279\n",
      "17    3490565\n",
      "18    3570640\n",
      "19    3569078\n",
      "20    3686432\n",
      "21    3625222\n",
      "22    3633026\n",
      "23    3770409\n",
      "24    3635456\n",
      "25    3553217\n",
      "26    3583683\n",
      "27    3490699\n",
      "28    3625500\n",
      "29    3516445\n",
      "30    3820369\n",
      "31    3800786\n",
      "32    3655479\n",
      "33    3682068\n",
      "34    3535161\n",
      "35    3570956\n",
      "36    3709715\n",
      "37    3685078\n",
      "38    3857856\n",
      "39    3723826\n",
      "40    3652824\n",
      "41    3505489\n",
      "42    3752191\n",
      "43    3703265\n",
      "44    3573211\n",
      "45    3798974\n",
      "46    3626267\n",
      "47    3784432\n",
      "48    3485444\n",
      "49    3542419\n",
      "50    3679785\n",
      "51    3457048\n",
      "52    3946135\n",
      "Name: selling_price, dtype: int64\n",
      "----------------------------------------------------------------------------------------------------\n",
      "day\n",
      "1     6413253\n",
      "2     6371754\n",
      "3     6006086\n",
      "4     6502637\n",
      "5     6113815\n",
      "6     6149975\n",
      "7     6445588\n",
      "8     6109984\n",
      "9     6166272\n",
      "10    6331685\n",
      "11    6322954\n",
      "12    6116908\n",
      "13    6199282\n",
      "14    6432694\n",
      "15    6225302\n",
      "16    5947142\n",
      "17    6511636\n",
      "18    6390004\n",
      "19    6450491\n",
      "20    6237209\n",
      "21    6094313\n",
      "22    6142026\n",
      "23    6289273\n",
      "24    6258772\n",
      "25    6395263\n",
      "26    5831972\n",
      "27    6175587\n",
      "28    6215796\n",
      "29    5880313\n",
      "30    5886925\n",
      "31    3792720\n",
      "Name: selling_price, dtype: int64\n"
     ]
    }
   ],
   "source": [
    "print(sales_yearly)\n",
    "print('-----'*20)\n",
    "print(sales_quarterly)\n",
    "print('-----'*20)\n",
    "print(sales_month)\n",
    "print('-----'*20)\n",
    "print(sales_weekly)\n",
    "print('-----'*20)\n",
    "print(sales_day)\n"
   ]
  },
  {
   "cell_type": "markdown",
   "id": "465c4543",
   "metadata": {},
   "source": [
    "# `Visualization`"
   ]
  },
  {
   "cell_type": "code",
   "execution_count": 73,
   "id": "eb0c644c",
   "metadata": {},
   "outputs": [],
   "source": [
    "import matplotlib.pyplot as plt\n",
    "import seaborn as sns"
   ]
  },
  {
   "cell_type": "markdown",
   "id": "c0585257",
   "metadata": {},
   "source": [
    "# `Top 10 products by sales`"
   ]
  },
  {
   "cell_type": "code",
   "execution_count": null,
   "id": "c0701622",
   "metadata": {},
   "outputs": [],
   "source": [
    "# Top products barplot\n",
    "top_products.plot(kind='bar', title='Top 10 Products by Sales')\n",
    "plt.ylabel('Sales')\n",
    "plt.show()"
   ]
  },
  {
   "cell_type": "markdown",
   "id": "88cf1396",
   "metadata": {},
   "source": [
    "# `Sales by Category`\n"
   ]
  },
  {
   "cell_type": "code",
   "execution_count": null,
   "id": "8bcb15c3",
   "metadata": {},
   "outputs": [
    {
     "data": {
      "image/png": "[encoded data removed]",
      "text/plain": [
       "<Figure size 640x480 with 1 Axes>"
      ]
     },
     "metadata": {},
     "output_type": "display_data"
    }
   ],
   "source": [
    "\n",
    "sales_by_cat.plot(kind='bar', title='Sales by Category')\n",
    "plt.ylabel('Sales')\n",
    "plt.show()"
   ]
  },
  {
   "cell_type": "markdown",
   "id": "0c572280",
   "metadata": {},
   "source": [
    "# `Sales over time`"
   ]
  },
  {
   "cell_type": "code",
   "execution_count": null,
   "id": "95e4ce78",
   "metadata": {},
   "outputs": [
    {
     "data": {
      "image/png": "[encoded data removed]",
      "text/plain": [
       "<Figure size 640x480 with 1 Axes>"
      ]
     },
     "metadata": {},
     "output_type": "display_data"
    }
   ],
   "source": [
    "# Sales over time\n",
    "sales_month.plot(kind='line', marker='o', title='Monthly Sales Trend')\n",
    "plt.ylabel('Sales')\n",
    "plt.show()"
   ]
  },
  {
   "cell_type": "markdown",
   "id": "40ac23dd",
   "metadata": {},
   "source": [
    "# `Top 10 brands by sales`"
   ]
  },
  {
   "cell_type": "code",
   "execution_count": 74,
   "id": "f1d9dd73",
   "metadata": {},
   "outputs": [
    {
     "data": {
      "image/png": "[encoded data removed]",
      "text/plain": [
       "<Figure size 640x480 with 1 Axes>"
      ]
     },
     "metadata": {},
     "output_type": "display_data"
    }
   ],
   "source": [
    "# Top brands\n",
    "top_brands.plot(kind='bar', title='Top Brands by Sales')\n",
    "plt.ylabel('Sales')\n",
    "plt.show()"
   ]
  },
  {
   "cell_type": "markdown",
   "id": "40296978",
   "metadata": {},
   "source": [
    "# `Sales by state`"
   ]
  },
  {
   "cell_type": "code",
   "execution_count": 80,
   "id": "ef223f8d",
   "metadata": {},
   "outputs": [
    {
     "data": {
      "image/png": "[encoded data removed]",
      "text/plain": [
       "<Figure size 640x480 with 1 Axes>"
      ]
     },
     "metadata": {},
     "output_type": "display_data"
    }
   ],
   "source": [
    "# Sales by state\n",
    "sales_by_state.plot(kind='bar', title='Sales by State')\n",
    "plt.ylabel('Sales')\n",
    "plt.show()"
   ]
  }
 ],
 "metadata": {
  "kernelspec": {
   "display_name": "atm_env",
   "language": "python",
   "name": "python3"
  },
  "language_info": {
   "codemirror_mode": {
    "name": "ipython",
    "version": 3
   },
   "file_extension": ".py",
   "mimetype": "text/x-python",
   "name": "python",
   "nbconvert_exporter": "python",
   "pygments_lexer": "ipython3",
   "version": "3.10.18"
  }
 },
 "nbformat": 4,
 "nbformat_minor": 5
}
